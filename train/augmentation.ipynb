{
 "cells": [
  {
   "cell_type": "code",
   "execution_count": 16,
   "metadata": {},
   "outputs": [],
   "source": [
    "import random \n",
    "\n",
    "def abreviar_marca(marca, n_variantes=5):\n",
    "    marca = marca.upper().replace(\"-\", \" \")\n",
    "    tokens = marca.split()\n",
    "    variantes = set()\n",
    "\n",
    "    if len(tokens) == 0:\n",
    "        return []\n",
    "\n",
    "    p = tokens[0]\n",
    "    # Tomar primeras 3 letras\n",
    "    variantes.add(p[:3])\n",
    "    # Solo consonantes de la primera palabra\n",
    "    variantes.add(\"\".join([c for c in p if c not in \"AEIOU\"])[:3])\n",
    "    # Palabra completa\n",
    "    variantes.add(p)\n",
    "    variantes.add(p[:2])\n",
    "    # Si hay segunda palabra, combinaciones\n",
    "    if len(tokens) > 1:\n",
    "        s = tokens[1]\n",
    "        variantes.add(f\"{p[:3]} {s}\")\n",
    "        variantes.add(f\"{p[0]}{s}\")\n",
    "        variantes.add(s)\n",
    "        variantes.add(f\"{p} {s}\")\n",
    "        if len(s) > 1:\n",
    "            variantes.add(f\"{p[:2]} {s[:2]}\")\n",
    "        variantes.add(f\"{p[:2]}{s[:1]}\")\n",
    "\n",
    "    # Todo junto sin espacios\n",
    "    variantes.add(\"\".join(tokens))\n",
    "\n",
    "    # Limitar a n_variantes\n",
    "    return list(variantes)[:n_variantes]\n",
    "\n",
    "\n",
    "def abreviar_modelo(modelo, n_variantes=5):\n",
    "    modelo = modelo.upper().replace(\"-\", \" \")\n",
    "    tokens = modelo.split()\n",
    "    variantes = set()\n",
    "\n",
    "    p = tokens[0]\n",
    "    variantes.add(p[:3])\n",
    "    variantes.add(\"\".join([c for c in p if c not in \"AEIOU\"]))\n",
    "    variantes.add(p)\n",
    "    variantes.add(p[:2])\n",
    "    \n",
    "    if len(tokens) > 1:\n",
    "        s = tokens[1]\n",
    "        variantes.add(f\"{p[:3]} {s}\")\n",
    "        variantes.add(f\"{p[0]}{s}\")\n",
    "        variantes.add(s)\n",
    "        variantes.add(f\"{p} {s}\")\n",
    "        if len(s) > 1:\n",
    "            variantes.add(f\"{p[:2]} {s[:2]}\")\n",
    "        variantes.add(f\"{p[:2]}{s[:1]}\")\n",
    "\n",
    "    variantes.add(\"\".join(tokens))\n",
    "    return list(variantes)"
   ]
  },
  {
   "cell_type": "code",
   "execution_count": 17,
   "metadata": {},
   "outputs": [
    {
     "name": "stdout",
     "output_type": "stream",
     "text": [
      "{'Hyundai': ['HYUNDAI', 'HYN', 'HY', 'HYU'], 'SsangYong': ['SSANGYONG', 'SS', 'SSA', 'SSN'], 'Mazda': ['MAZDA', 'MA', 'MZD', 'MAZ'], 'Kia': ['KI', 'KIA', 'K'], 'Mitsubishi': ['MIT', 'MI', 'MTS', 'MITSUBISHI']}\n",
      "{'Sonata': ['SNT', 'SON', 'SO', 'SONATA'], 'Carens': ['CA', 'CRNS', 'CARENS', 'CAR'], 'L300': ['L300', 'L30', 'L3'], 'Actyon': ['CTYN', 'AC', 'ACT', 'ACTYON']}\n"
     ]
    }
   ],
   "source": [
    "marcas = [\"Hyundai\", \"SsangYong\", \"Mazda\", \"Kia\", \"Mitsubishi\"]\n",
    "modelos = [\"Sonata\", \"Carens\", \"L300\", \"Actyon\"]\n",
    "\n",
    "# Generamos variantes:\n",
    "marcas_var = {m: abreviar_marca(m) for m in marcas}\n",
    "modelos_var = {m: abreviar_modelo(m) for m in modelos}\n",
    "\n",
    "print(marcas_var)\n",
    "print(modelos_var)\n"
   ]
  },
  {
   "cell_type": "code",
   "execution_count": null,
   "metadata": {},
   "outputs": [],
   "source": [
    "import random\n",
    "\n",
    "def ampliar_ejemplo(texto, ner_tags, marcas_var, modelos_var):\n",
    "    # reemplaza marcas y modelos en texto por alguna variante aleatoria\n",
    "    for marca, variantes in marcas_var.items():\n",
    "        if marca.upper() in texto.upper():\n",
    "            variante = random.choice(variantes)\n",
    "            texto = texto.upper().replace(marca.upper(), variante)\n",
    "\n",
    "    for modelo, variantes in modelos_var.items():\n",
    "        if modelo.upper() in texto.upper():\n",
    "            variante = random.choice(variantes)\n",
    "            texto = texto.upper().replace(modelo.upper(), variante)\n",
    "\n",
    "    # Para simplicidad, asumimos que ner_tags se mantienen igual (pero ideal sería ajustar)\n",
    "    return texto, ner_tags\n"
   ]
  },
  {
   "cell_type": "code",
   "execution_count": null,
   "metadata": {},
   "outputs": [],
   "source": []
  }
 ],
 "metadata": {
  "kernelspec": {
   "display_name": "env",
   "language": "python",
   "name": "python3"
  },
  "language_info": {
   "codemirror_mode": {
    "name": "ipython",
    "version": 3
   },
   "file_extension": ".py",
   "mimetype": "text/x-python",
   "name": "python",
   "nbconvert_exporter": "python",
   "pygments_lexer": "ipython3",
   "version": "3.9.6"
  }
 },
 "nbformat": 4,
 "nbformat_minor": 2
}
