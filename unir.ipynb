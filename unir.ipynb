{
 "cells": [
  {
   "cell_type": "code",
   "execution_count": 1,
   "metadata": {},
   "outputs": [],
   "source": [
    "import pandas as pd"
   ]
  },
  {
   "cell_type": "code",
   "execution_count": 4,
   "metadata": {},
   "outputs": [],
   "source": [
    "df_1 = pd.read_csv('data_limpia/datos_limpios_F1.csv')\n",
    "df_2 = pd.read_csv('data_limpia/datos_limpios_F2.csv')\n",
    "df_3 = pd.read_csv('data_limpia/datos_limpios_F3.csv')\n",
    "df_4 = pd.read_csv('data_limpia/datos_limpios_F4.csv')"
   ]
  },
  {
   "cell_type": "code",
   "execution_count": 7,
   "metadata": {},
   "outputs": [],
   "source": [
    "df_1.rename(columns={'marca': 'MARCA', 'modelo': 'MODELO', 'cilindrada': 'CILINDRADA', 'año': 'AÑO'}, inplace=True)\n"
   ]
  },
  {
   "cell_type": "code",
   "execution_count": 12,
   "metadata": {},
   "outputs": [
    {
     "data": {
      "text/html": [
       "<div>\n",
       "<style scoped>\n",
       "    .dataframe tbody tr th:only-of-type {\n",
       "        vertical-align: middle;\n",
       "    }\n",
       "\n",
       "    .dataframe tbody tr th {\n",
       "        vertical-align: top;\n",
       "    }\n",
       "\n",
       "    .dataframe thead th {\n",
       "        text-align: right;\n",
       "    }\n",
       "</style>\n",
       "<table border=\"1\" class=\"dataframe\">\n",
       "  <thead>\n",
       "    <tr style=\"text-align: right;\">\n",
       "      <th></th>\n",
       "      <th>MARCA</th>\n",
       "      <th>MODELO</th>\n",
       "      <th>VERSION</th>\n",
       "      <th>CILINDRADA</th>\n",
       "      <th>AÑO</th>\n",
       "    </tr>\n",
       "  </thead>\n",
       "  <tbody>\n",
       "    <tr>\n",
       "      <th>0</th>\n",
       "      <td>HYUNDAI</td>\n",
       "      <td>GRAND I10</td>\n",
       "      <td>BA PE 1</td>\n",
       "      <td>NaN</td>\n",
       "      <td>2020</td>\n",
       "    </tr>\n",
       "    <tr>\n",
       "      <th>1</th>\n",
       "      <td>SSANGYONG</td>\n",
       "      <td>MUSSO</td>\n",
       "      <td>GRAND</td>\n",
       "      <td>2.2</td>\n",
       "      <td>2020</td>\n",
       "    </tr>\n",
       "    <tr>\n",
       "      <th>2</th>\n",
       "      <td>FORD</td>\n",
       "      <td>EXPLORER</td>\n",
       "      <td>XLT</td>\n",
       "      <td>3.5</td>\n",
       "      <td>2020</td>\n",
       "    </tr>\n",
       "    <tr>\n",
       "      <th>3</th>\n",
       "      <td>KIA</td>\n",
       "      <td>SOLUTO</td>\n",
       "      <td>LX</td>\n",
       "      <td>1.4</td>\n",
       "      <td>2020</td>\n",
       "    </tr>\n",
       "    <tr>\n",
       "      <th>4</th>\n",
       "      <td>RENAULT</td>\n",
       "      <td>OROCH</td>\n",
       "      <td>NaN</td>\n",
       "      <td>1.6</td>\n",
       "      <td>2020</td>\n",
       "    </tr>\n",
       "  </tbody>\n",
       "</table>\n",
       "</div>"
      ],
      "text/plain": [
       "       MARCA     MODELO  VERSION  CILINDRADA   AÑO\n",
       "0    HYUNDAI  GRAND I10  BA PE 1         NaN  2020\n",
       "1  SSANGYONG      MUSSO    GRAND         2.2  2020\n",
       "2       FORD   EXPLORER      XLT         3.5  2020\n",
       "3        KIA     SOLUTO       LX         1.4  2020\n",
       "4    RENAULT      OROCH      NaN         1.6  2020"
      ]
     },
     "execution_count": 12,
     "metadata": {},
     "output_type": "execute_result"
    }
   ],
   "source": [
    "df_4.rename(columns={'modelo_base_corregido': 'MODELO', 'version_corregida': 'VERSION', 'cilindrada': 'CILINDRADA', 'AÑO_FAB': 'AÑO'}, inplace=True)\n",
    "df_4.head()"
   ]
  },
  {
   "cell_type": "code",
   "execution_count": null,
   "metadata": {},
   "outputs": [],
   "source": []
  }
 ],
 "metadata": {
  "kernelspec": {
   "display_name": "env",
   "language": "python",
   "name": "python3"
  },
  "language_info": {
   "codemirror_mode": {
    "name": "ipython",
    "version": 3
   },
   "file_extension": ".py",
   "mimetype": "text/x-python",
   "name": "python",
   "nbconvert_exporter": "python",
   "pygments_lexer": "ipython3",
   "version": "3.9.6"
  }
 },
 "nbformat": 4,
 "nbformat_minor": 2
}
