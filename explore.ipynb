{
 "cells": [
  {
   "cell_type": "code",
   "execution_count": 19,
   "metadata": {},
   "outputs": [],
   "source": [
    "import pandas as pd\n",
    "from unidecode import unidecode\n",
    "import re"
   ]
  },
  {
   "cell_type": "code",
   "execution_count": 20,
   "metadata": {},
   "outputs": [],
   "source": [
    "# 1. Función para extraer modelos de autos de la columna 'Aplicaciones'\n",
    "def extraer_autos_de_aplicaciones(aplicaciones):\n",
    "    if pd.isna(aplicaciones) or aplicaciones == '':\n",
    "        return []\n",
    "    \n",
    "    # Patrones para extraer modelos de autos\n",
    "    patrones = [\n",
    "        r'([A-Z][A-Za-z]+ [A-Z][A-Za-z-]+ \\d{4}/\\d{4})',  # Ej: \"CORSA 1.4 1.6 1993/1998\"\n",
    "        r'([A-Z][A-Za-z]+ \\d\\.\\d \\d{4}[-\\/]\\d{4})',  # Ej: \"CORSA 1.6 1993-2010\"\n",
    "        r'([A-Z][A-Za-z]+ [A-Z][A-Za-z]+ \\d{4}[-\\/]\\d{4})',  # Ej: \"HYUNDAI GRAND I10 2015/2018\"\n",
    "        r'([A-Z][A-Za-z]+ \\d{4}[-\\/]\\d{4})',  # Ej: \"SONATA 2006/2010\"\n",
    "        r'([A-Z][A-Za-z]+ [A-Z][A-Za-z-]+)',  # Ej: \"CHEVROLET SAIL\"\n",
    "        r'([A-Z][A-Za-z]+ \\d\\.\\d)',  # Ej: \"CORSA 1.6\"\n",
    "        r'([A-Z][A-Za-z]+)'  # Solo marca/modelo\n",
    "    ]\n",
    "    \n",
    "    autos_encontrados = set()\n",
    "    \n",
    "    for patron in patrones:\n",
    "        matches = re.findall(patron, str(aplicaciones))\n",
    "        for match in matches:\n",
    "            # Limpiar y normalizar el resultado\n",
    "            auto = re.sub(r'\\d+\\.\\d', '', match)  # Quitar cilindradas\n",
    "            auto = re.sub(r'\\d{4}[-\\/]\\d{4}', '', auto)  # Quitar años\n",
    "            auto = re.sub(r'\\(.*?\\)', '', auto)  # Quitar texto entre paréntesis\n",
    "            auto = unidecode(auto).upper().strip()\n",
    "            if len(auto) > 3:  # Filtrar resultados muy cortos\n",
    "                autos_encontrados.add(auto)\n",
    "    \n",
    "    return list(autos_encontrados)"
   ]
  },
  {
   "cell_type": "code",
   "execution_count": 21,
   "metadata": {},
   "outputs": [],
   "source": [
    "# 2. Función para procesar hojas de repuestos\n",
    "def procesar_hojas_repuestos(archivo):\n",
    "    hojas_repuestos = ['F1', 'F2', 'F3']\n",
    "    datos_autos = []\n",
    "    \n",
    "    for hoja in hojas_repuestos:\n",
    "        try:\n",
    "            df = pd.read_excel(archivo, sheet_name=hoja)\n",
    "            if 'Aplicaciones' not in df.columns:\n",
    "                continue\n",
    "                \n",
    "            for _, row in df.iterrows():\n",
    "                autos = extraer_autos_de_aplicaciones(row['Aplicaciones'])\n",
    "                for auto in autos:\n",
    "                    # Separar marca y modelo (asumimos primera palabra es marca)\n",
    "                    partes = auto.split()\n",
    "                    if len(partes) >= 2:\n",
    "                        marca = partes[0]\n",
    "                        modelo = ' '.join(partes[1:])\n",
    "                        datos_autos.append({\n",
    "                            'MARCA': marca,\n",
    "                            'MODELO': modelo,\n",
    "                            'FUENTE': f'repuesto_{hoja}',\n",
    "                            'CODIGO_REPUESTO': row.get('Codigo', '')\n",
    "                        })\n",
    "        except:\n",
    "            continue\n",
    "    \n",
    "    return pd.DataFrame(datos_autos)"
   ]
  },
  {
   "cell_type": "code",
   "execution_count": 22,
   "metadata": {},
   "outputs": [],
   "source": [
    "# 3. Función para procesar hoja de vehículos (F4)\n",
    "def procesar_hoja_vehiculos(archivo):\n",
    "    df = pd.read_excel(archivo, sheet_name='F4')\n",
    "    df = df.dropna(subset=['MARCA', 'MODELO', 'AÑO_FAB'])\n",
    "    \n",
    "    # Crear dataframe compatible con el de repuestos\n",
    "    vehiculos = df[['MARCA', 'MODELO']].copy()\n",
    "    vehiculos['FUENTE'] = 'vehiculo_F4'\n",
    "    vehiculos['CODIGO_REPUESTO'] = ''\n",
    "    \n",
    "    return vehiculos"
   ]
  },
  {
   "cell_type": "code",
   "execution_count": 23,
   "metadata": {},
   "outputs": [],
   "source": [
    "# 4. Función principal consolidada\n",
    "def procesar_archivo_completo(archivo_excel):\n",
    "    # Procesar vehículos directos\n",
    "    vehiculos = procesar_hoja_vehiculos(archivo_excel)\n",
    "    \n",
    "    # Procesar autos mencionados en repuestos\n",
    "    autos_repuestos = procesar_hojas_repuestos(archivo_excel)\n",
    "    \n",
    "    # Combinar ambos datasets\n",
    "    todos_autos = pd.concat([vehiculos, autos_repuestos], ignore_index=True)\n",
    "    \n",
    "    # Normalización\n",
    "    todos_autos['MARCA'] = todos_autos['MARCA'].apply(lambda x: unidecode(x).upper().strip())\n",
    "    todos_autos['MODELO_BASE'] = todos_autos['MODELO'].apply(extraer_modelo_base)\n",
    "    \n",
    "    # Eliminar duplicados (misma marca y modelo base)\n",
    "    todos_autos = todos_autos.drop_duplicates(subset=['MARCA', 'MODELO_BASE'])\n",
    "    \n",
    "    # Crear tablas normalizadas\n",
    "    marcas = todos_autos[['MARCA']].drop_duplicates().reset_index(drop=True)\n",
    "    marcas['MARCA_ID'] = marcas.index + 1\n",
    "    \n",
    "    modelos = todos_autos[['MARCA', 'MODELO_BASE']].drop_duplicates()\n",
    "    modelos = modelos.merge(marcas, on='MARCA')\n",
    "    modelos['MODELO_ID'] = modelos.index + 1\n",
    "    modelos = modelos[['MODELO_ID', 'MARCA_ID', 'MODELO_BASE']]\n",
    "    \n",
    "    # Para los autos completos (de la hoja F4)\n",
    "    if not vehiculos.empty:\n",
    "        autos_completos = vehiculos.merge(modelos, \n",
    "                                       left_on=['MARCA', 'MODELO_BASE'], \n",
    "                                       right_on=['MARCA', 'MODELO_BASE'])\n",
    "        autos_completos = autos_completos[[\n",
    "            'MARCA_ID', 'MODELO_ID', 'MODELO', 'FUENTE'\n",
    "        ]]\n",
    "    else:\n",
    "        autos_completos = pd.DataFrame()\n",
    "    \n",
    "    return marcas, modelos, autos_completos"
   ]
  },
  {
   "cell_type": "code",
   "execution_count": 24,
   "metadata": {},
   "outputs": [],
   "source": [
    "# Funciones auxiliares (las mismas que antes)\n",
    "def extraer_modelo_base(texto):\n",
    "    texto = unidecode(texto).upper()\n",
    "    patrones_eliminar = [\n",
    "        r'\\d\\.\\d', r'\\d+\\.\\d+L', r'CVT', r'AT', r'MT',\n",
    "        r'\\dX\\d', r'[A-Z]{2,}', r'\\d{4}', r'\\(.*?\\)'\n",
    "    ]\n",
    "    for patron in patrones_eliminar:\n",
    "        texto = re.sub(patron, '', texto)\n",
    "    texto = re.sub(r'[^A-Z ]', '', texto).strip()\n",
    "    palabras = texto.split()\n",
    "    if len(palabras) > 3:\n",
    "        return ' '.join(palabras[:3])\n",
    "    return texto"
   ]
  },
  {
   "cell_type": "code",
   "execution_count": 25,
   "metadata": {},
   "outputs": [
    {
     "ename": "KeyError",
     "evalue": "'MARCA'",
     "output_type": "error",
     "traceback": [
      "\u001b[0;31m---------------------------------------------------------------------------\u001b[0m",
      "\u001b[0;31mKeyError\u001b[0m                                  Traceback (most recent call last)",
      "\u001b[0;32m/var/folders/0t/_qm975t16jj4mgcwr01mv1fc0000gn/T/ipykernel_14227/1216502231.py\u001b[0m in \u001b[0;36m?\u001b[0;34m()\u001b[0m\n\u001b[0;32m----> 2\u001b[0;31m \u001b[0;31m# Procesar archivo completo\u001b[0m\u001b[0;34m\u001b[0m\u001b[0;34m\u001b[0m\u001b[0;34m\u001b[0m\u001b[0m\n\u001b[0m\u001b[1;32m      3\u001b[0m \u001b[0mmarcas\u001b[0m\u001b[0;34m,\u001b[0m \u001b[0mmodelos\u001b[0m\u001b[0;34m,\u001b[0m \u001b[0mautos\u001b[0m \u001b[0;34m=\u001b[0m \u001b[0mprocesar_archivo_completo\u001b[0m\u001b[0;34m(\u001b[0m\u001b[0;34m'DatosTecnicaTurboshop.xlsx'\u001b[0m\u001b[0;34m)\u001b[0m\u001b[0;34m\u001b[0m\u001b[0;34m\u001b[0m\u001b[0m\n\u001b[1;32m      4\u001b[0m \u001b[0;34m\u001b[0m\u001b[0m\n\u001b[1;32m      5\u001b[0m \u001b[0;31m# Guardar resultados\u001b[0m\u001b[0;34m\u001b[0m\u001b[0;34m\u001b[0m\u001b[0;34m\u001b[0m\u001b[0m\n",
      "\u001b[0;32m/var/folders/0t/_qm975t16jj4mgcwr01mv1fc0000gn/T/ipykernel_14227/3983884406.py\u001b[0m in \u001b[0;36m?\u001b[0;34m(archivo_excel)\u001b[0m\n\u001b[1;32m     26\u001b[0m     \u001b[0mmodelos\u001b[0m \u001b[0;34m=\u001b[0m \u001b[0mmodelos\u001b[0m\u001b[0;34m[\u001b[0m\u001b[0;34m[\u001b[0m\u001b[0;34m'MODELO_ID'\u001b[0m\u001b[0;34m,\u001b[0m \u001b[0;34m'MARCA_ID'\u001b[0m\u001b[0;34m,\u001b[0m \u001b[0;34m'MODELO_BASE'\u001b[0m\u001b[0;34m]\u001b[0m\u001b[0;34m]\u001b[0m\u001b[0;34m\u001b[0m\u001b[0;34m\u001b[0m\u001b[0m\n\u001b[1;32m     27\u001b[0m \u001b[0;34m\u001b[0m\u001b[0m\n\u001b[1;32m     28\u001b[0m     \u001b[0;31m# Para los autos completos (de la hoja F4)\u001b[0m\u001b[0;34m\u001b[0m\u001b[0;34m\u001b[0m\u001b[0;34m\u001b[0m\u001b[0m\n\u001b[1;32m     29\u001b[0m     \u001b[0;32mif\u001b[0m \u001b[0;32mnot\u001b[0m \u001b[0mvehiculos\u001b[0m\u001b[0;34m.\u001b[0m\u001b[0mempty\u001b[0m\u001b[0;34m:\u001b[0m\u001b[0;34m\u001b[0m\u001b[0;34m\u001b[0m\u001b[0m\n\u001b[0;32m---> 30\u001b[0;31m         autos_completos = vehiculos.merge(modelos, \n\u001b[0m\u001b[1;32m     31\u001b[0m                                        \u001b[0mleft_on\u001b[0m\u001b[0;34m=\u001b[0m\u001b[0;34m[\u001b[0m\u001b[0;34m'MARCA'\u001b[0m\u001b[0;34m,\u001b[0m \u001b[0;34m'MODELO_BASE'\u001b[0m\u001b[0;34m]\u001b[0m\u001b[0;34m,\u001b[0m\u001b[0;34m\u001b[0m\u001b[0;34m\u001b[0m\u001b[0m\n\u001b[1;32m     32\u001b[0m                                        right_on=['MARCA', 'MODELO_BASE'])\n\u001b[1;32m     33\u001b[0m         autos_completos = autos_completos[[\n",
      "\u001b[0;32m~/Desktop/Programacion/Entrevista Turboshop/Tarea/env/lib/python3.9/site-packages/pandas/core/frame.py\u001b[0m in \u001b[0;36m?\u001b[0;34m(self, right, how, on, left_on, right_on, left_index, right_index, sort, suffixes, copy, indicator, validate)\u001b[0m\n\u001b[1;32m  10835\u001b[0m         \u001b[0mvalidate\u001b[0m\u001b[0;34m:\u001b[0m \u001b[0mMergeValidate\u001b[0m \u001b[0;34m|\u001b[0m \u001b[0;32mNone\u001b[0m \u001b[0;34m=\u001b[0m \u001b[0;32mNone\u001b[0m\u001b[0;34m,\u001b[0m\u001b[0;34m\u001b[0m\u001b[0;34m\u001b[0m\u001b[0m\n\u001b[1;32m  10836\u001b[0m     ) -> DataFrame:\n\u001b[1;32m  10837\u001b[0m         \u001b[0;32mfrom\u001b[0m \u001b[0mpandas\u001b[0m\u001b[0;34m.\u001b[0m\u001b[0mcore\u001b[0m\u001b[0;34m.\u001b[0m\u001b[0mreshape\u001b[0m\u001b[0;34m.\u001b[0m\u001b[0mmerge\u001b[0m \u001b[0;32mimport\u001b[0m \u001b[0mmerge\u001b[0m\u001b[0;34m\u001b[0m\u001b[0;34m\u001b[0m\u001b[0m\n\u001b[1;32m  10838\u001b[0m \u001b[0;34m\u001b[0m\u001b[0m\n\u001b[0;32m> 10839\u001b[0;31m         return merge(\n\u001b[0m\u001b[1;32m  10840\u001b[0m             \u001b[0mself\u001b[0m\u001b[0;34m,\u001b[0m\u001b[0;34m\u001b[0m\u001b[0;34m\u001b[0m\u001b[0m\n\u001b[1;32m  10841\u001b[0m             \u001b[0mright\u001b[0m\u001b[0;34m,\u001b[0m\u001b[0;34m\u001b[0m\u001b[0;34m\u001b[0m\u001b[0m\n\u001b[1;32m  10842\u001b[0m             \u001b[0mhow\u001b[0m\u001b[0;34m=\u001b[0m\u001b[0mhow\u001b[0m\u001b[0;34m,\u001b[0m\u001b[0;34m\u001b[0m\u001b[0;34m\u001b[0m\u001b[0m\n",
      "\u001b[0;32m~/Desktop/Programacion/Entrevista Turboshop/Tarea/env/lib/python3.9/site-packages/pandas/core/reshape/merge.py\u001b[0m in \u001b[0;36m?\u001b[0;34m(left, right, how, on, left_on, right_on, left_index, right_index, sort, suffixes, copy, indicator, validate)\u001b[0m\n\u001b[1;32m    166\u001b[0m             \u001b[0mvalidate\u001b[0m\u001b[0;34m=\u001b[0m\u001b[0mvalidate\u001b[0m\u001b[0;34m,\u001b[0m\u001b[0;34m\u001b[0m\u001b[0;34m\u001b[0m\u001b[0m\n\u001b[1;32m    167\u001b[0m             \u001b[0mcopy\u001b[0m\u001b[0;34m=\u001b[0m\u001b[0mcopy\u001b[0m\u001b[0;34m,\u001b[0m\u001b[0;34m\u001b[0m\u001b[0;34m\u001b[0m\u001b[0m\n\u001b[1;32m    168\u001b[0m         )\n\u001b[1;32m    169\u001b[0m     \u001b[0;32melse\u001b[0m\u001b[0;34m:\u001b[0m\u001b[0;34m\u001b[0m\u001b[0;34m\u001b[0m\u001b[0m\n\u001b[0;32m--> 170\u001b[0;31m         op = _MergeOperation(\n\u001b[0m\u001b[1;32m    171\u001b[0m             \u001b[0mleft_df\u001b[0m\u001b[0;34m,\u001b[0m\u001b[0;34m\u001b[0m\u001b[0;34m\u001b[0m\u001b[0m\n\u001b[1;32m    172\u001b[0m             \u001b[0mright_df\u001b[0m\u001b[0;34m,\u001b[0m\u001b[0;34m\u001b[0m\u001b[0;34m\u001b[0m\u001b[0m\n\u001b[1;32m    173\u001b[0m             \u001b[0mhow\u001b[0m\u001b[0;34m=\u001b[0m\u001b[0mhow\u001b[0m\u001b[0;34m,\u001b[0m\u001b[0;34m\u001b[0m\u001b[0;34m\u001b[0m\u001b[0m\n",
      "\u001b[0;32m~/Desktop/Programacion/Entrevista Turboshop/Tarea/env/lib/python3.9/site-packages/pandas/core/reshape/merge.py\u001b[0m in \u001b[0;36m?\u001b[0;34m(self, left, right, how, on, left_on, right_on, left_index, right_index, sort, suffixes, indicator, validate)\u001b[0m\n\u001b[1;32m    790\u001b[0m             \u001b[0mself\u001b[0m\u001b[0;34m.\u001b[0m\u001b[0mright_join_keys\u001b[0m\u001b[0;34m,\u001b[0m\u001b[0;34m\u001b[0m\u001b[0;34m\u001b[0m\u001b[0m\n\u001b[1;32m    791\u001b[0m             \u001b[0mself\u001b[0m\u001b[0;34m.\u001b[0m\u001b[0mjoin_names\u001b[0m\u001b[0;34m,\u001b[0m\u001b[0;34m\u001b[0m\u001b[0;34m\u001b[0m\u001b[0m\n\u001b[1;32m    792\u001b[0m             \u001b[0mleft_drop\u001b[0m\u001b[0;34m,\u001b[0m\u001b[0;34m\u001b[0m\u001b[0;34m\u001b[0m\u001b[0m\n\u001b[1;32m    793\u001b[0m             \u001b[0mright_drop\u001b[0m\u001b[0;34m,\u001b[0m\u001b[0;34m\u001b[0m\u001b[0;34m\u001b[0m\u001b[0m\n\u001b[0;32m--> 794\u001b[0;31m         ) = self._get_merge_keys()\n\u001b[0m\u001b[1;32m    795\u001b[0m \u001b[0;34m\u001b[0m\u001b[0m\n\u001b[1;32m    796\u001b[0m         \u001b[0;32mif\u001b[0m \u001b[0mleft_drop\u001b[0m\u001b[0;34m:\u001b[0m\u001b[0;34m\u001b[0m\u001b[0;34m\u001b[0m\u001b[0m\n\u001b[1;32m    797\u001b[0m             \u001b[0mself\u001b[0m\u001b[0;34m.\u001b[0m\u001b[0mleft\u001b[0m \u001b[0;34m=\u001b[0m \u001b[0mself\u001b[0m\u001b[0;34m.\u001b[0m\u001b[0mleft\u001b[0m\u001b[0;34m.\u001b[0m\u001b[0m_drop_labels_or_levels\u001b[0m\u001b[0;34m(\u001b[0m\u001b[0mleft_drop\u001b[0m\u001b[0;34m)\u001b[0m\u001b[0;34m\u001b[0m\u001b[0;34m\u001b[0m\u001b[0m\n",
      "\u001b[0;32m~/Desktop/Programacion/Entrevista Turboshop/Tarea/env/lib/python3.9/site-packages/pandas/core/reshape/merge.py\u001b[0m in \u001b[0;36m?\u001b[0;34m(self)\u001b[0m\n\u001b[1;32m   1293\u001b[0m                         \u001b[0;31m# Then we're either Hashable or a wrong-length arraylike,\u001b[0m\u001b[0;34m\u001b[0m\u001b[0;34m\u001b[0m\u001b[0;34m\u001b[0m\u001b[0m\n\u001b[1;32m   1294\u001b[0m                         \u001b[0;31m#  the latter of which will raise\u001b[0m\u001b[0;34m\u001b[0m\u001b[0;34m\u001b[0m\u001b[0;34m\u001b[0m\u001b[0m\n\u001b[1;32m   1295\u001b[0m                         \u001b[0mrk\u001b[0m \u001b[0;34m=\u001b[0m \u001b[0mcast\u001b[0m\u001b[0;34m(\u001b[0m\u001b[0mHashable\u001b[0m\u001b[0;34m,\u001b[0m \u001b[0mrk\u001b[0m\u001b[0;34m)\u001b[0m\u001b[0;34m\u001b[0m\u001b[0;34m\u001b[0m\u001b[0m\n\u001b[1;32m   1296\u001b[0m                         \u001b[0;32mif\u001b[0m \u001b[0mrk\u001b[0m \u001b[0;32mis\u001b[0m \u001b[0;32mnot\u001b[0m \u001b[0;32mNone\u001b[0m\u001b[0;34m:\u001b[0m\u001b[0;34m\u001b[0m\u001b[0;34m\u001b[0m\u001b[0m\n\u001b[0;32m-> 1297\u001b[0;31m                             \u001b[0mright_keys\u001b[0m\u001b[0;34m.\u001b[0m\u001b[0mappend\u001b[0m\u001b[0;34m(\u001b[0m\u001b[0mright\u001b[0m\u001b[0;34m.\u001b[0m\u001b[0m_get_label_or_level_values\u001b[0m\u001b[0;34m(\u001b[0m\u001b[0mrk\u001b[0m\u001b[0;34m)\u001b[0m\u001b[0;34m)\u001b[0m\u001b[0;34m\u001b[0m\u001b[0;34m\u001b[0m\u001b[0m\n\u001b[0m\u001b[1;32m   1298\u001b[0m                         \u001b[0;32melse\u001b[0m\u001b[0;34m:\u001b[0m\u001b[0;34m\u001b[0m\u001b[0;34m\u001b[0m\u001b[0m\n\u001b[1;32m   1299\u001b[0m                             \u001b[0;31m# work-around for merge_asof(right_index=True)\u001b[0m\u001b[0;34m\u001b[0m\u001b[0;34m\u001b[0m\u001b[0;34m\u001b[0m\u001b[0m\n\u001b[1;32m   1300\u001b[0m                             \u001b[0mright_keys\u001b[0m\u001b[0;34m.\u001b[0m\u001b[0mappend\u001b[0m\u001b[0;34m(\u001b[0m\u001b[0mright\u001b[0m\u001b[0;34m.\u001b[0m\u001b[0mindex\u001b[0m\u001b[0;34m.\u001b[0m\u001b[0m_values\u001b[0m\u001b[0;34m)\u001b[0m\u001b[0;34m\u001b[0m\u001b[0;34m\u001b[0m\u001b[0m\n",
      "\u001b[0;32m~/Desktop/Programacion/Entrevista Turboshop/Tarea/env/lib/python3.9/site-packages/pandas/core/generic.py\u001b[0m in \u001b[0;36m?\u001b[0;34m(self, key, axis)\u001b[0m\n\u001b[1;32m   1907\u001b[0m             \u001b[0mvalues\u001b[0m \u001b[0;34m=\u001b[0m \u001b[0mself\u001b[0m\u001b[0;34m.\u001b[0m\u001b[0mxs\u001b[0m\u001b[0;34m(\u001b[0m\u001b[0mkey\u001b[0m\u001b[0;34m,\u001b[0m \u001b[0maxis\u001b[0m\u001b[0;34m=\u001b[0m\u001b[0mother_axes\u001b[0m\u001b[0;34m[\u001b[0m\u001b[0;36m0\u001b[0m\u001b[0;34m]\u001b[0m\u001b[0;34m)\u001b[0m\u001b[0;34m.\u001b[0m\u001b[0m_values\u001b[0m\u001b[0;34m\u001b[0m\u001b[0;34m\u001b[0m\u001b[0m\n\u001b[1;32m   1908\u001b[0m         \u001b[0;32melif\u001b[0m \u001b[0mself\u001b[0m\u001b[0;34m.\u001b[0m\u001b[0m_is_level_reference\u001b[0m\u001b[0;34m(\u001b[0m\u001b[0mkey\u001b[0m\u001b[0;34m,\u001b[0m \u001b[0maxis\u001b[0m\u001b[0;34m=\u001b[0m\u001b[0maxis\u001b[0m\u001b[0;34m)\u001b[0m\u001b[0;34m:\u001b[0m\u001b[0;34m\u001b[0m\u001b[0;34m\u001b[0m\u001b[0m\n\u001b[1;32m   1909\u001b[0m             \u001b[0mvalues\u001b[0m \u001b[0;34m=\u001b[0m \u001b[0mself\u001b[0m\u001b[0;34m.\u001b[0m\u001b[0maxes\u001b[0m\u001b[0;34m[\u001b[0m\u001b[0maxis\u001b[0m\u001b[0;34m]\u001b[0m\u001b[0;34m.\u001b[0m\u001b[0mget_level_values\u001b[0m\u001b[0;34m(\u001b[0m\u001b[0mkey\u001b[0m\u001b[0;34m)\u001b[0m\u001b[0;34m.\u001b[0m\u001b[0m_values\u001b[0m\u001b[0;34m\u001b[0m\u001b[0;34m\u001b[0m\u001b[0m\n\u001b[1;32m   1910\u001b[0m         \u001b[0;32melse\u001b[0m\u001b[0;34m:\u001b[0m\u001b[0;34m\u001b[0m\u001b[0;34m\u001b[0m\u001b[0m\n\u001b[0;32m-> 1911\u001b[0;31m             \u001b[0;32mraise\u001b[0m \u001b[0mKeyError\u001b[0m\u001b[0;34m(\u001b[0m\u001b[0mkey\u001b[0m\u001b[0;34m)\u001b[0m\u001b[0;34m\u001b[0m\u001b[0;34m\u001b[0m\u001b[0m\n\u001b[0m\u001b[1;32m   1912\u001b[0m \u001b[0;34m\u001b[0m\u001b[0m\n\u001b[1;32m   1913\u001b[0m         \u001b[0;31m# Check for duplicates\u001b[0m\u001b[0;34m\u001b[0m\u001b[0;34m\u001b[0m\u001b[0;34m\u001b[0m\u001b[0m\n\u001b[1;32m   1914\u001b[0m         \u001b[0;32mif\u001b[0m \u001b[0mvalues\u001b[0m\u001b[0;34m.\u001b[0m\u001b[0mndim\u001b[0m \u001b[0;34m>\u001b[0m \u001b[0;36m1\u001b[0m\u001b[0;34m:\u001b[0m\u001b[0;34m\u001b[0m\u001b[0;34m\u001b[0m\u001b[0m\n",
      "\u001b[0;31mKeyError\u001b[0m: 'MARCA'"
     ]
    }
   ],
   "source": [
    "# Procesar archivo completo\n",
    "marcas, modelos, autos = procesar_archivo_completo('DatosTecnicaTurboshop.xlsx')\n",
    "\n",
    "# Guardar resultados\n",
    "marcas.to_csv('marcas_completas.csv', index=False)\n",
    "modelos.to_csv('modelos_completos.csv', index=False)\n",
    "autos.to_csv('autos_completos.csv', index=False)\n",
    "\n",
    "print(f\"Marcas encontradas: {len(marcas)}\")\n",
    "print(f\"Modelos encontrados: {len(modelos)}\")\n",
    "print(f\"Autos completos: {len(autos)}\")\n",
    "\n",
    "# Mostrar algunos ejemplos\n",
    "print(\"\\nAlgunas marcas:\", marcas.head().to_string())\n",
    "print(\"\\nAlgunos modelos:\", modelos.head(10).to_string())\n",
    "print(\"\\nAlgunos autos completos:\", autos.head().to_string())"
   ]
  },
  {
   "cell_type": "code",
   "execution_count": null,
   "metadata": {},
   "outputs": [],
   "source": []
  }
 ],
 "metadata": {
  "kernelspec": {
   "display_name": "env",
   "language": "python",
   "name": "python3"
  },
  "language_info": {
   "codemirror_mode": {
    "name": "ipython",
    "version": 3
   },
   "file_extension": ".py",
   "mimetype": "text/x-python",
   "name": "python",
   "nbconvert_exporter": "python",
   "pygments_lexer": "ipython3",
   "version": "3.9.6"
  }
 },
 "nbformat": 4,
 "nbformat_minor": 2
}
